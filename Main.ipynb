{
 "cells": [
  {
   "cell_type": "code",
   "execution_count": 1,
   "metadata": {},
   "outputs": [
    {
     "data": {
      "text/plain": [
       "array([[82, 80, 77, ..., 44, 55, 50],\n",
       "       [88, 85, 71, ..., 40, 51, 66],\n",
       "       [87, 75, 64, ..., 58, 55, 76],\n",
       "       ...,\n",
       "       [48, 43, 64, ..., 58, 57, 65],\n",
       "       [43, 32, 63, ..., 59, 64, 55],\n",
       "       [45, 40, 51, ..., 57, 67, 48]], dtype=uint8)"
      ]
     },
     "execution_count": 1,
     "metadata": {},
     "output_type": "execute_result"
    }
   ],
   "source": [
    "from PIL import Image\n",
    "import numpy as np\n",
    "from matplotlib import cm\n",
    "\n",
    "def load_grayscale(path):\n",
    "    im = Image.open(path).convert('LA')\n",
    "    arr = np.array(im)\n",
    "    arr = arr[:,:,:-1]\n",
    "    return arr[:,:,0]\n",
    "\n",
    "arr = load_grayscale(\"randompic_color.png\")\n",
    "arr"
   ]
  },
  {
   "cell_type": "code",
   "execution_count": 2,
   "metadata": {},
   "outputs": [
    {
     "data": {
      "text/plain": [
       "array([[ 52,  55,  61,  66,  70,  61,  64,  73],\n",
       "       [ 63,  59,  55,  90, 109,  85,  69,  72],\n",
       "       [ 62,  59,  68, 113, 144, 104,  66,  73],\n",
       "       [ 63,  58,  71, 122, 154, 106,  70,  69],\n",
       "       [ 67,  61,  68, 104, 126,  88,  68,  70],\n",
       "       [ 79,  65,  60,  70,  77,  68,  58,  75],\n",
       "       [ 85,  71,  64,  59,  55,  61,  65,  83],\n",
       "       [ 87,  79,  69,  68,  65,  76,  78,  94]])"
      ]
     },
     "execution_count": 2,
     "metadata": {},
     "output_type": "execute_result"
    }
   ],
   "source": [
    "#arr88 = arr[0:8,0:8]\n",
    "arr88 = np.array([[52, 55, 61, 66, 70, 61, 64, 73],\n",
    "                  [63, 59, 55, 90, 109 ,85, 69, 72],\n",
    "                  [62, 59, 68, 113, 144, 104, 66, 73],\n",
    "                  [63, 58, 71, 122, 154, 106, 70, 69],\n",
    "                  [67, 61, 68, 104, 126, 88, 68, 70],\n",
    "                  [79, 65, 60, 70, 77, 68, 58, 75],\n",
    "                  [85, 71, 64, 59, 55, 61, 65, 83],\n",
    "                  [87, 79, 69, 68, 65, 76, 78, 94]])\n",
    "\n",
    "arr88"
   ]
  },
  {
   "cell_type": "code",
   "execution_count": 3,
   "metadata": {},
   "outputs": [
    {
     "data": {
      "text/plain": [
       "array([[ 0.35355339,  0.35355339,  0.35355339,  0.35355339,  0.35355339,\n",
       "         0.35355339,  0.35355339,  0.35355339],\n",
       "       [ 0.49039264,  0.41573481,  0.27778512,  0.09754516, -0.09754516,\n",
       "        -0.27778512, -0.41573481, -0.49039264],\n",
       "       [ 0.46193977,  0.19134172, -0.19134172, -0.46193977, -0.46193977,\n",
       "        -0.19134172,  0.19134172,  0.46193977],\n",
       "       [ 0.41573481, -0.09754516, -0.49039264, -0.27778512,  0.27778512,\n",
       "         0.49039264,  0.09754516, -0.41573481],\n",
       "       [ 0.35355339, -0.35355339, -0.35355339,  0.35355339,  0.35355339,\n",
       "        -0.35355339, -0.35355339,  0.35355339],\n",
       "       [ 0.27778512, -0.49039264,  0.09754516,  0.41573481, -0.41573481,\n",
       "        -0.09754516,  0.49039264, -0.27778512],\n",
       "       [ 0.19134172, -0.46193977,  0.46193977, -0.19134172, -0.19134172,\n",
       "         0.46193977, -0.46193977,  0.19134172],\n",
       "       [ 0.09754516, -0.27778512,  0.41573481, -0.49039264,  0.49039264,\n",
       "        -0.41573481,  0.27778512, -0.09754516]])"
      ]
     },
     "execution_count": 3,
     "metadata": {},
     "output_type": "execute_result"
    }
   ],
   "source": [
    "def create_D8():\n",
    "    D8 = np.zeros((8,8), dtype = float)\n",
    "    D8[0,:] = 1 / np.sqrt(2)\n",
    "\n",
    "    for i in range(1, 8):\n",
    "        for j in range(8):\n",
    "            D8[i,j] = np.cos(np.pi * (i + 2 * i * j) / 16)\n",
    "\n",
    "    D8 /= 2\n",
    "    return D8\n",
    "\n",
    "D8 = create_D8()\n",
    "D8"
   ]
  },
  {
   "cell_type": "code",
   "execution_count": 4,
   "metadata": {},
   "outputs": [
    {
     "data": {
      "text/plain": [
       "array([[-4.15375000e+02, -3.01857173e+01, -6.11970620e+01,\n",
       "         2.72393225e+01,  5.61250000e+01, -2.00951738e+01,\n",
       "        -2.38764710e+00,  4.61815442e-01],\n",
       "       [ 4.46552370e+00, -2.18574393e+01, -6.07580381e+01,\n",
       "         1.02536368e+01,  1.31451101e+01, -7.08741801e+00,\n",
       "        -8.53543671e+00,  4.87688850e+00],\n",
       "       [-4.68344847e+01,  7.37059735e+00,  7.71293876e+01,\n",
       "        -2.45619822e+01, -2.89116884e+01,  9.93352095e+00,\n",
       "         5.41681547e+00, -5.64895086e+00],\n",
       "       [-4.85349667e+01,  1.20683609e+01,  3.40997672e+01,\n",
       "        -1.47594111e+01, -1.02406068e+01,  6.29596744e+00,\n",
       "         1.83116505e+00,  1.94593651e+00],\n",
       "       [ 1.21250000e+01, -6.55344993e+00, -1.31961210e+01,\n",
       "        -3.95142773e+00, -1.87500000e+00,  1.74528445e+00,\n",
       "        -2.78722825e+00,  3.13528230e+00],\n",
       "       [-7.73474368e+00,  2.90546138e+00,  2.37979576e+00,\n",
       "        -5.93931394e+00, -2.37779671e+00,  9.41391596e-01,\n",
       "         4.30371334e+00,  1.84869103e+00],\n",
       "       [-1.03067401e+00,  1.83067444e-01,  4.16815472e-01,\n",
       "        -2.41556137e+00, -8.77793920e-01, -3.01930655e+00,\n",
       "         4.12061242e+00, -6.61948454e-01],\n",
       "       [-1.65375602e-01,  1.41607122e-01, -1.07153639e+00,\n",
       "        -4.19291208e+00, -1.17031409e+00, -9.77610793e-02,\n",
       "         5.01269392e-01,  1.67545882e+00]])"
      ]
     },
     "execution_count": 4,
     "metadata": {},
     "output_type": "execute_result"
    }
   ],
   "source": [
    "J = D8 @ (arr88 - 128) @ D8.T\n",
    "\n",
    "J"
   ]
  },
  {
   "cell_type": "code",
   "execution_count": 5,
   "metadata": {},
   "outputs": [
    {
     "data": {
      "text/plain": [
       "array([[-415,  -30,  -61,   27,   56,  -20,   -2,    0],\n",
       "       [   4,  -22,  -61,   10,   13,   -7,   -9,    5],\n",
       "       [ -47,    7,   77,  -25,  -29,   10,    5,   -6],\n",
       "       [ -49,   12,   34,  -15,  -10,    6,    2,    2],\n",
       "       [  12,   -7,  -13,   -4,   -2,    2,   -3,    3],\n",
       "       [  -8,    3,    2,   -6,   -2,    1,    4,    2],\n",
       "       [  -1,    0,    0,   -2,   -1,   -3,    4,   -1],\n",
       "       [   0,    0,   -1,   -4,   -1,    0,    1,    2]])"
      ]
     },
     "execution_count": 5,
     "metadata": {},
     "output_type": "execute_result"
    }
   ],
   "source": [
    "J = np.around(J).astype(int)\n",
    "J"
   ]
  },
  {
   "cell_type": "code",
   "execution_count": 6,
   "metadata": {},
   "outputs": [
    {
     "data": {
      "text/plain": [
       "array([[ 16,  11,  10,  16,  24,  40,  51,  61],\n",
       "       [ 12,  12,  14,  19,  26,  58,  60,  55],\n",
       "       [ 14,  13,  16,  24,  40,  57,  69,  56],\n",
       "       [ 14,  17,  22,  29,  51,  87,  80,  62],\n",
       "       [ 18,  22,  37,  56,  68, 109, 103,  77],\n",
       "       [ 24,  35,  55,  64,  81, 104, 113,  92],\n",
       "       [ 49,  64,  78,  87, 103, 121, 120, 101],\n",
       "       [ 72,  92,  95,  98, 112, 100, 103,  99]])"
      ]
     },
     "execution_count": 6,
     "metadata": {},
     "output_type": "execute_result"
    }
   ],
   "source": [
    "def create_Q(q = 50):\n",
    "    Q = np.array([[16, 11, 10, 16, 24, 40, 51, 61],\n",
    "                  [12, 12, 14, 19, 26, 58, 60, 55],\n",
    "                  [14, 13, 16, 24, 40, 57, 69, 56],\n",
    "                  [14, 17, 22, 29, 51, 87, 80, 62],\n",
    "                  [18, 22, 37, 56, 68, 109, 103, 77],\n",
    "                  [24, 35, 55, 64, 81, 104, 113, 92],\n",
    "                  [49, 64, 78, 87, 103, 121, 120, 101],\n",
    "                  [72, 92, 95, 98, 112, 100, 103, 99]])\n",
    "    \n",
    "    if q < 50:\n",
    "        alpha = 5000 / q\n",
    "    else:\n",
    "        alpha = 200 - (2 * q)\n",
    "        \n",
    "    Q = (alpha * Q + 50) / 100\n",
    "    Q = np.floor(Q).astype(int)\n",
    "    \n",
    "    return Q\n",
    "\n",
    "\n",
    "Q = create_Q()\n",
    "Q"
   ]
  },
  {
   "cell_type": "code",
   "execution_count": 7,
   "metadata": {},
   "outputs": [
    {
     "data": {
      "text/plain": [
       "array([[-26,  -3,  -6,   2,   2,   0,   0,   0],\n",
       "       [  0,  -2,  -4,   1,   0,   0,   0,   0],\n",
       "       [ -3,   1,   5,  -1,  -1,   0,   0,   0],\n",
       "       [ -4,   1,   2,  -1,   0,   0,   0,   0],\n",
       "       [  1,   0,   0,   0,   0,   0,   0,   0],\n",
       "       [  0,   0,   0,   0,   0,   0,   0,   0],\n",
       "       [  0,   0,   0,   0,   0,   0,   0,   0],\n",
       "       [  0,   0,   0,   0,   0,   0,   0,   0]])"
      ]
     },
     "execution_count": 7,
     "metadata": {},
     "output_type": "execute_result"
    }
   ],
   "source": [
    "K = J / Q\n",
    "K = np.around(K).astype(int)\n",
    "\n",
    "K"
   ]
  },
  {
   "cell_type": "code",
   "execution_count": 8,
   "metadata": {},
   "outputs": [
    {
     "data": {
      "text/plain": [
       "array([-26,  -3,   0,  -3,  -2,  -6,   2,  -4,   1,  -4,   1,   1,   5,\n",
       "         1,   2,   0,   0,  -1,   2,   0,   0,   0,   0,   0,  -1,  -1,\n",
       "         0,   0,   0,   0,   0,   0,   0,   0,   0,   0,   0,   0,   0,\n",
       "         0,   0,   0,   0,   0,   0,   0,   0,   0,   0,   0,   0,   0,\n",
       "         0,   0,   0,   0,   0,   0,   0,   0,   0,   0,   0,   0])"
      ]
     },
     "execution_count": 8,
     "metadata": {},
     "output_type": "execute_result"
    }
   ],
   "source": [
    "def zigzag(K):\n",
    "    flippedK = K[::-1,:]\n",
    "    zig = np.zeros((0), dtype = int)\n",
    "    for k in range(1-K.shape[0], K.shape[0]):\n",
    "        diagonalK = np.diagonal(flippedK, k)\n",
    "        if k % 2 == 0:\n",
    "            diagonalK = diagonalK[::-1]\n",
    "        zig = np.concatenate([zig, diagonalK])\n",
    "    return zig\n",
    "    \n",
    "zig = zigzag(K)\n",
    "zig"
   ]
  },
  {
   "cell_type": "code",
   "execution_count": 9,
   "metadata": {},
   "outputs": [
    {
     "data": {
      "text/plain": [
       "2.4615384615384617"
      ]
     },
     "execution_count": 9,
     "metadata": {},
     "output_type": "execute_result"
    }
   ],
   "source": [
    "def eliminate_zero(zig):\n",
    "    zero_count = len(zig)\n",
    "    for i in range(len(zig) - 1, 0, -1):\n",
    "        if zig[i] != 0:\n",
    "            zero_count = len(zig) - i - 1\n",
    "            break\n",
    "\n",
    "    return zig[:len(zig) - zero_count]\n",
    "\n",
    "zig_without_zero = eliminate_zero(zig)\n",
    "len(zig) / len(zig_without_zero)"
   ]
  },
  {
   "cell_type": "markdown",
   "metadata": {},
   "source": [
    "# Décompression"
   ]
  },
  {
   "cell_type": "code",
   "execution_count": 10,
   "metadata": {},
   "outputs": [
    {
     "data": {
      "text/plain": [
       "array([-26,  -3,   0,  -3,  -2,  -6,   2,  -4,   1,  -4,   1,   1,   5,\n",
       "         1,   2,   0,   0,  -1,   2,   0,   0,   0,   0,   0,  -1,  -1,\n",
       "         0,   0,   0,   0,   0,   0,   0,   0,   0,   0,   0,   0,   0,\n",
       "         0,   0,   0,   0,   0,   0,   0,   0,   0,   0,   0,   0,   0,\n",
       "         0,   0,   0,   0,   0,   0,   0,   0,   0,   0,   0,   0])"
      ]
     },
     "execution_count": 10,
     "metadata": {},
     "output_type": "execute_result"
    }
   ],
   "source": [
    "def read_zero(zig_without_zero):\n",
    "    _zig = np.zeros((64), dtype=int)\n",
    "    _zig[:len(zig_without_zero)] = zig_without_zero\n",
    "    return _zig\n",
    "\n",
    "_zig = read_zero(zig_without_zero)\n",
    "_zig"
   ]
  },
  {
   "cell_type": "code",
   "execution_count": 11,
   "metadata": {},
   "outputs": [
    {
     "data": {
      "text/plain": [
       "array([[-26,  -3,  -6,   2,   2,   0,   0,   0],\n",
       "       [  0,  -2,  -4,   1,   0,   0,   0,   0],\n",
       "       [ -3,   1,   5,  -1,  -1,   0,   0,   0],\n",
       "       [ -4,   1,   2,  -1,   0,   0,   0,   0],\n",
       "       [  1,   0,   0,   0,   0,   0,   0,   0],\n",
       "       [  0,   0,   0,   0,   0,   0,   0,   0],\n",
       "       [  0,   0,   0,   0,   0,   0,   0,   0],\n",
       "       [  0,   0,   0,   0,   0,   0,   0,   0]])"
      ]
     },
     "execution_count": 11,
     "metadata": {},
     "output_type": "execute_result"
    }
   ],
   "source": [
    "def zigzag_reverse(_zig):\n",
    "    _K = np.zeros((8,8), dtype=int)\n",
    "    x, y = 0, 0\n",
    "    down = True\n",
    "    # x -> column\n",
    "    # y -> row\n",
    "    maxY, maxX = _K.shape\n",
    "    for v in _zig:\n",
    "        _K[x, y] = v\n",
    "        if down:\n",
    "            x -= 1\n",
    "            y += 1\n",
    "            if x < 0:\n",
    "                down = False\n",
    "                x += 1\n",
    "            if y >= maxY:\n",
    "                down = False\n",
    "                x += 2\n",
    "                y -= 1\n",
    "        else:\n",
    "            x += 1\n",
    "            y -= 1\n",
    "            if x >= maxX:\n",
    "                down = True\n",
    "                x -= 1\n",
    "                y += 2\n",
    "            if y < 0:\n",
    "                down = True\n",
    "                y += 1\n",
    "    return _K\n",
    "\n",
    "_K = zigzag_reverse(_zig)\n",
    "_K"
   ]
  },
  {
   "cell_type": "code",
   "execution_count": 12,
   "metadata": {},
   "outputs": [
    {
     "data": {
      "text/plain": [
       "array([[-416,  -33,  -60,   32,   48,    0,    0,    0],\n",
       "       [   0,  -24,  -56,   19,    0,    0,    0,    0],\n",
       "       [ -42,   13,   80,  -24,  -40,    0,    0,    0],\n",
       "       [ -56,   17,   44,  -29,    0,    0,    0,    0],\n",
       "       [  18,    0,    0,    0,    0,    0,    0,    0],\n",
       "       [   0,    0,    0,    0,    0,    0,    0,    0],\n",
       "       [   0,    0,    0,    0,    0,    0,    0,    0],\n",
       "       [   0,    0,    0,    0,    0,    0,    0,    0]])"
      ]
     },
     "execution_count": 12,
     "metadata": {},
     "output_type": "execute_result"
    }
   ],
   "source": [
    "_J = _K * Q\n",
    "_J"
   ]
  },
  {
   "cell_type": "code",
   "execution_count": 13,
   "metadata": {},
   "outputs": [],
   "source": [
    "_arr88 = (D8.T @ _J @ D8) + 128\n"
   ]
  },
  {
   "cell_type": "code",
   "execution_count": 14,
   "metadata": {},
   "outputs": [
    {
     "data": {
      "image/png": "[encoded data removed]",
      "text/plain": [
       "<PIL.Image.Image image mode=LA size=500x500 at 0x7FB40AEC5DF0>"
      ]
     },
     "execution_count": 14,
     "metadata": {},
     "output_type": "execute_result"
    }
   ],
   "source": [
    "def show_arr(arr):\n",
    "    x, y = arr.shape\n",
    "    arr2 = np.zeros((x, y, 2), dtype = int)\n",
    "    arr2[:,:,0] = arr[:,:]\n",
    "    arr2[:,:,1] = 255\n",
    "    return Image.fromarray(np.uint8(arr2)).resize((500,500), Image.NEAREST)\n",
    "\n",
    "show_arr(_arr88)"
   ]
  },
  {
   "cell_type": "code",
   "execution_count": 15,
   "metadata": {},
   "outputs": [
    {
     "data": {
      "image/png": "[encoded data removed]",
      "text/plain": [
       "<PIL.Image.Image image mode=LA size=500x500 at 0x7FB4216A7730>"
      ]
     },
     "execution_count": 15,
     "metadata": {},
     "output_type": "execute_result"
    }
   ],
   "source": [
    "\n",
    "show_arr(arr88)"
   ]
  },
  {
   "cell_type": "code",
   "execution_count": 16,
   "metadata": {},
   "outputs": [
    {
     "data": {
      "text/plain": [
       "array([[ 52,  55,  61,  66,  70,  61,  64,  73],\n",
       "       [ 63,  59,  55,  90, 109,  85,  69,  72],\n",
       "       [ 62,  59,  68, 113, 144, 104,  66,  73],\n",
       "       [ 63,  58,  71, 122, 154, 106,  70,  69],\n",
       "       [ 67,  61,  68, 104, 126,  88,  68,  70],\n",
       "       [ 79,  65,  60,  70,  77,  68,  58,  75],\n",
       "       [ 85,  71,  64,  59,  55,  61,  65,  83],\n",
       "       [ 87,  79,  69,  68,  65,  76,  78,  94]])"
      ]
     },
     "execution_count": 16,
     "metadata": {},
     "output_type": "execute_result"
    }
   ],
   "source": [
    "arr88"
   ]
  },
  {
   "cell_type": "code",
   "execution_count": 17,
   "metadata": {},
   "outputs": [
    {
     "data": {
      "text/plain": [
       "array([[ 59.53600012,  60.88612722,  60.78742912,  59.2773395 ,\n",
       "         59.90382799,  64.08191242,  69.01345141,  71.78923396],\n",
       "       [ 57.71514823,  52.78415377,  61.6126308 ,  84.72169533,\n",
       "         98.47694098,  90.291222  ,  73.49597995,  63.62235796],\n",
       "       [ 61.40312959,  47.92584165,  66.22544309, 116.35086565,\n",
       "        141.70943524, 117.14979544,  79.07723159,  60.5627253 ],\n",
       "       [ 69.40423568,  50.12737124,  69.87488216, 126.79392839,\n",
       "        149.56979994, 115.30599074,  76.99777766,  66.80057639],\n",
       "       [ 73.43195578,  53.70162947,  65.75032514, 106.33854362,\n",
       "        115.3479698 ,  83.89551918,  64.95963034,  73.45115352],\n",
       "       [ 74.7933654 ,  58.99665507,  60.05674643,  76.38593875,\n",
       "         74.22396066,  56.0608229 ,  57.58985604,  76.94865962],\n",
       "       [ 81.81932002,  71.241129  ,  64.18445834,  63.61493012,\n",
       "         60.91001116,  58.89064701,  68.41738693,  82.74151598],\n",
       "       [ 91.35877166,  84.23265155,  73.66664225,  66.66361834,\n",
       "         68.49875031,  77.109065  ,  85.6095951 ,  89.83429499]])"
      ]
     },
     "execution_count": 17,
     "metadata": {},
     "output_type": "execute_result"
    }
   ],
   "source": [
    "_arr88"
   ]
  },
  {
   "cell_type": "code",
   "execution_count": 20,
   "metadata": {},
   "outputs": [
    {
     "data": {
      "image/png": "[encoded data removed]",
      "text/plain": [
       "<PIL.Image.Image image mode=LA size=500x500 at 0x7FB420E5C3A0>"
      ]
     },
     "execution_count": 20,
     "metadata": {},
     "output_type": "execute_result"
    }
   ],
   "source": [
    "show_arr(255 - np.abs(arr88 - _arr88))"
   ]
  }
 ],
 "metadata": {
  "kernelspec": {
   "display_name": "Python 3",
   "language": "python",
   "name": "python3"
  },
  "language_info": {
   "codemirror_mode": {
    "name": "ipython",
    "version": 3
   },
   "file_extension": ".py",
   "mimetype": "text/x-python",
   "name": "python",
   "nbconvert_exporter": "python",
   "pygments_lexer": "ipython3",
   "version": "3.8.2"
  }
 },
 "nbformat": 4,
 "nbformat_minor": 4
}
