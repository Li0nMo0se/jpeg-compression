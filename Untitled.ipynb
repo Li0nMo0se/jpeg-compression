{
 "cells": [
  {
   "cell_type": "code",
   "execution_count": 1,
   "metadata": {},
   "outputs": [
    {
     "data": {
      "text/plain": [
       "array([[82, 80, 77, ..., 44, 55, 50],\n",
       "       [88, 85, 71, ..., 40, 51, 66],\n",
       "       [87, 75, 64, ..., 58, 55, 76],\n",
       "       ...,\n",
       "       [48, 43, 64, ..., 58, 57, 65],\n",
       "       [43, 32, 63, ..., 59, 64, 55],\n",
       "       [45, 40, 51, ..., 57, 67, 48]], dtype=uint8)"
      ]
     },
     "execution_count": 1,
     "metadata": {},
     "output_type": "execute_result"
    }
   ],
   "source": [
    "from PIL import Image\n",
    "import numpy as np\n",
    "from matplotlib import cm\n",
    "\n",
    "def load_grayscale(path):\n",
    "    im = Image.open(path).convert('LA')\n",
    "    arr = np.array(im)\n",
    "    arr = arr[:,:,:-1]\n",
    "    return arr[:,:,0]\n",
    "\n",
    "arr = load_grayscale(\"randompic_color.png\")\n",
    "arr"
   ]
  },
  {
   "cell_type": "code",
   "execution_count": 68,
   "metadata": {},
   "outputs": [
    {
     "data": {
      "text/plain": [
       "True"
      ]
     },
     "execution_count": 68,
     "metadata": {},
     "output_type": "execute_result"
    }
   ],
   "source": [
    "# Return a numpy array containing chunks of 8x8 pixels (It is then an x*y*8*8 array)\n",
    "def separateChuncks(array, chunk_size = 8):\n",
    "    # Chunks dimensions\n",
    "    (arrX, arrY) = array.shape\n",
    "    (x, y) = (int(np.ceil(arrX / chunk_size)), int(np.ceil(arrY / chunk_size)))\n",
    "    \n",
    "    # Create the chunks array\n",
    "    chunks = np.zeros((x, y, chunk_size, chunk_size))\n",
    "    \n",
    "    # Iterate chunk\n",
    "    for (i, j) in np.ndindex(x, y):\n",
    "        # The point we start from in array\n",
    "        (startX, startY) = (i * chunk_size, j * chunk_size)\n",
    "        \n",
    "        # The limit of the chunk for the padding\n",
    "        (clipX, clipY) = (arrX % chunk_size if startX + chunk_size > arrX else chunk_size, arrY % chunk_size if startY + chunk_size > arrY else chunk_size)\n",
    "        \n",
    "        # Copy the 8x8 chunk\n",
    "        chunks[i, j][:clipX, :clipY] = arr[startX:startX + clipX, startY:startY + clipY]\n",
    "        \n",
    "    return chunks\n",
    "        \n",
    "chunks = separateChuncks(arr)\n",
    "(chunks[0,0] == arr[0:8,0:8]).all() and (chunks[1,1] == arr[8:16,8:16]).all()"
   ]
  },
  {
   "cell_type": "code",
   "execution_count": 3,
   "metadata": {},
   "outputs": [
    {
     "data": {
      "image/png": "[encoded data removed]",
      "text/plain": [
       "<PIL.Image.Image image mode=LA size=500x500 at 0x7FF6E410E978>"
      ]
     },
     "execution_count": 3,
     "metadata": {},
     "output_type": "execute_result"
    }
   ],
   "source": [
    "def show_arr(arr):\n",
    "    x, y = arr.shape\n",
    "    arr2 = np.zeros((x, y, 2), dtype = int)\n",
    "    arr2[:,:,0] = arr[:,:]\n",
    "    arr2[:,:,1] = 255\n",
    "    return Image.fromarray(np.uint8(arr2)).resize((500,500), Image.NEAREST)\n",
    "    \n",
    "show_arr(arr88)"
   ]
  },
  {
   "cell_type": "code",
   "execution_count": null,
   "metadata": {},
   "outputs": [],
   "source": []
  },
  {
   "cell_type": "code",
   "execution_count": null,
   "metadata": {},
   "outputs": [],
   "source": []
  }
 ],
 "metadata": {
  "kernelspec": {
   "display_name": "Python 3",
   "language": "python",
   "name": "python3"
  },
  "language_info": {
   "codemirror_mode": {
    "name": "ipython",
    "version": 3
   },
   "file_extension": ".py",
   "mimetype": "text/x-python",
   "name": "python",
   "nbconvert_exporter": "python",
   "pygments_lexer": "ipython3",
   "version": "3.6.9"
  }
 },
 "nbformat": 4,
 "nbformat_minor": 4
}
