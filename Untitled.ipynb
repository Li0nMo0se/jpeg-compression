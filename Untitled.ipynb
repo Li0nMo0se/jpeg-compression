{
 "cells": [
  {
   "cell_type": "code",
   "execution_count": 1,
   "metadata": {},
   "outputs": [
    {
     "data": {
      "text/plain": [
       "array([[82, 80, 77, ..., 44, 55, 50],\n",
       "       [88, 85, 71, ..., 40, 51, 66],\n",
       "       [87, 75, 64, ..., 58, 55, 76],\n",
       "       ...,\n",
       "       [48, 43, 64, ..., 58, 57, 65],\n",
       "       [43, 32, 63, ..., 59, 64, 55],\n",
       "       [45, 40, 51, ..., 57, 67, 48]], dtype=uint8)"
      ]
     },
     "execution_count": 1,
     "metadata": {},
     "output_type": "execute_result"
    }
   ],
   "source": [
    "from PIL import Image\n",
    "import numpy as np\n",
    "from matplotlib import cm\n",
    "\n",
    "def load_grayscale(path):\n",
    "    im = Image.open(path).convert('LA')\n",
    "    arr = np.array(im)\n",
    "    arr = arr[:,:,:-1]\n",
    "    return arr[:,:,0]\n",
    "\n",
    "arr = load_grayscale(\"randompic_color.png\")\n",
    "arr"
   ]
  },
  {
   "cell_type": "code",
   "execution_count": 2,
   "metadata": {},
   "outputs": [
    {
     "data": {
      "text/plain": [
       "array([[ 82,  80,  77,  77,  73,  76,  98, 130],\n",
       "       [ 88,  85,  71,  76,  78,  82,  98, 137],\n",
       "       [ 87,  75,  64,  68,  65, 118, 136, 118],\n",
       "       [116,  96,  92,  99,  76, 128, 146, 112],\n",
       "       [ 98,  83,  89, 114,  89,  82,  98, 131],\n",
       "       [ 86,  80,  91, 104,  95,  73,  88, 121],\n",
       "       [ 99, 111, 117,  88,  96,  83,  95,  99],\n",
       "       [ 79, 122, 128,  86, 119,  91, 108, 153]], dtype=uint8)"
      ]
     },
     "execution_count": 2,
     "metadata": {},
     "output_type": "execute_result"
    }
   ],
   "source": [
    "arr88 = arr[0:8,0:8]\n",
    "arr88"
   ]
  },
  {
   "cell_type": "code",
   "execution_count": 12,
   "metadata": {},
   "outputs": [
    {
     "data": {
      "image/png": "[encoded data removed]",
      "text/plain": [
       "<PIL.Image.Image image mode=LA size=500x500 at 0x7F8F8AF2DBE0>"
      ]
     },
     "execution_count": 12,
     "metadata": {},
     "output_type": "execute_result"
    }
   ],
   "source": [
    "def show_arr(arr):\n",
    "    x, y = arr.shape\n",
    "    arr2 = np.zeros((x, y, 2), dtype = int)\n",
    "    arr2[:,:,0] = arr[:,:]\n",
    "    arr2[:,:,1] = 255\n",
    "    return Image.fromarray(np.uint8(arr2)).resize((500,500), Image.NEAREST)\n",
    "    \n",
    "show_arr(arr88)"
   ]
  },
  {
   "cell_type": "code",
   "execution_count": null,
   "metadata": {},
   "outputs": [],
   "source": []
  }
 ],
 "metadata": {
  "kernelspec": {
   "display_name": "Python 3",
   "language": "python",
   "name": "python3"
  },
  "language_info": {
   "codemirror_mode": {
    "name": "ipython",
    "version": 3
   },
   "file_extension": ".py",
   "mimetype": "text/x-python",
   "name": "python",
   "nbconvert_exporter": "python",
   "pygments_lexer": "ipython3",
   "version": "3.8.2"
  }
 },
 "nbformat": 4,
 "nbformat_minor": 4
}
